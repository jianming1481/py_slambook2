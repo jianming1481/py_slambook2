{
  "cells": [
    {
      "cell_type": "markdown",
      "metadata": {
        "id": "7Co2K4O_xJJX"
      },
      "source": [
        "# Import Library"
      ]
    },
    {
      "cell_type": "code",
      "execution_count": 33,
      "metadata": {
        "id": "XE_4zkemskq7"
      },
      "outputs": [],
      "source": [
        "import numpy as np\n",
        "import matplotlib.pyplot as plt\n",
        "import cv2\n",
        "from typing import List\n",
        "import time # 計算時間差\n",
        "import concurrent.futures # for opencv paralle_for_"
      ]
    },
    {
      "cell_type": "markdown",
      "metadata": {
        "id": "c2Nx4Li6Nbzv"
      },
      "source": [
        "# Define some utilize function"
      ]
    },
    {
      "cell_type": "code",
      "execution_count": 34,
      "metadata": {
        "id": "Ou82mvnYC1kM"
      },
      "outputs": [],
      "source": [
        "def GetPixelValue(image: np.ndarray, x: float, y: float)->float:\n",
        "  # boundary check\n",
        "  yLimit, xLimit = image.shape\n",
        "  if x<0:\n",
        "    x=0\n",
        "  if y<0:\n",
        "    y=0\n",
        "  if x>(xLimit-1):\n",
        "    x = xLimit-2\n",
        "  if y>(yLimit-1):\n",
        "    y = yLimit-2\n",
        "  xx = x-np.floor(x)\n",
        "  yy = y-np.floor(y)\n",
        "  x_a1 = np.min([xLimit - 1, int(x) + 1])\n",
        "  y_a1 = np.min([yLimit - 1, int(y) + 1])\n",
        "\n",
        "  return (1 - xx) * (1 - yy) * image[y][x]\n",
        "  + xx * (1 - yy) * image[y][x_a1]\n",
        "  + (1 - xx) * yy * image[y_a1][x]\n",
        "  + xx * yy * image[y_a1][x_a1]\n",
        "\n",
        "# GetPixelValue(img1, 0, 0)\n",
        "# Q: why not just img1[0][0]?"
      ]
    },
    {
      "cell_type": "code",
      "execution_count": 35,
      "metadata": {
        "id": "W3VS4ZsKUtdM"
      },
      "outputs": [],
      "source": [
        "'''\n",
        " single level optical flow\n",
        "'''\n",
        "def OpticalFlowSingleLevel(\n",
        "    img1: np.ndarray,\n",
        "    img2: np.ndarray,\n",
        "    kp1: List[cv2.KeyPoint],\n",
        "    kp2: List[cv2.KeyPoint],\n",
        "    success: List[bool],\n",
        "    inverse: bool = False,\n",
        "    has_initial_guess: bool = False)->None:\n",
        "    print('OpticalFlowSingleLevel')\n",
        "    kp2=kp2[:len(kp1)]\n",
        "    success=success[:len(kp1)]\n",
        "    tracker = OpticalFlowTracker(img1, img2, kp1, kp2, success, inverse, has_initial_guess)\n",
        "\n",
        "    with concurrent.futures.ThreadPoolExecutor() as executor:\n",
        "      executor.map(tracker.calculateOpticalFlow, range(len(kp1)))"
      ]
    },
    {
      "cell_type": "code",
      "execution_count": 36,
      "metadata": {
        "colab": {
          "base_uri": "https://localhost:8080/"
        },
        "id": "HdstB-pOuniW",
        "outputId": "bdfd5c99-4e1f-4c5d-cf32-761447399679"
      },
      "outputs": [
        {
          "output_type": "stream",
          "name": "stdout",
          "text": [
            "当前时间的毫秒数： 1692800792133\n"
          ]
        }
      ],
      "source": [
        "import time\n",
        "milliseconds = int(time.time() * 1000)\n",
        "\n",
        "print(\"当前时间的毫秒数：\", milliseconds)"
      ]
    },
    {
      "cell_type": "code",
      "execution_count": 37,
      "metadata": {
        "id": "wyYDwjf-Vmgs"
      },
      "outputs": [],
      "source": [
        "'''\n",
        " multi level optical flow, scale of pyramid is set to 2 by default\n",
        " the image pyramid will be create inside the function\n",
        "'''\n",
        "def OpticalFlowMultiLevel(\n",
        "    img1: np.ndarray,\n",
        "    img2: np.ndarray,\n",
        "    kp1: List[cv2.KeyPoint],\n",
        "    kp2: List[cv2.KeyPoint],\n",
        "    success: List[bool],\n",
        "    inverse: bool=False,)->None:\n",
        "    print('OpticalFlowMultiLevel')\n",
        "    # parameters\n",
        "    pyramids = 4\n",
        "    pyramid_scale = 0.5\n",
        "    scales = [1.0, 0.5, 0.25, 0.125]\n",
        "    # create pyramids\n",
        "    t1 = time.perf_counter()\n",
        "    pyr1 = []\n",
        "    pyr2 = []\n",
        "    for i in range(pyramids):\n",
        "      if i==0:\n",
        "        pyr1.append(img1)\n",
        "        pyr2.append(img2)\n",
        "      else:\n",
        "        new_width = int(pyr1[i - 1].shape[1] * pyramid_scale)\n",
        "        new_height = int(pyr1[i - 1].shape[0] * pyramid_scale)\n",
        "        img1_pyr = cv2.resize(pyr1[i-1], (new_width, new_height))\n",
        "        new_width = int(pyr2[i - 1].shape[1] * pyramid_scale)\n",
        "        new_height = int(pyr2[i - 1].shape[0] * pyramid_scale)\n",
        "        img2_pyr = cv2.resize(pyr2[i-1], (new_width, new_height))\n",
        "        pyr1.append(img1_pyr)\n",
        "        pyr2.append(img2_pyr)\n",
        "    t2 = time.perf_counter()\n",
        "    time_used = t2-t1\n",
        "    print('build pyramid time: ', time_used)\n",
        "    # coarse-to-fine LK tracking in pyramids\n",
        "    kp1_pyr = []\n",
        "    kp2_pyr = []\n",
        "    for kp in kp1:\n",
        "      kp_top = cv2.KeyPoint(kp.pt[0]*scales[pyramids-1], kp.pt[1]*scales[pyramids-1], kp.size)\n",
        "      kp1_pyr.append(kp_top)\n",
        "      kp2_pyr.append(kp_top)\n",
        "\n",
        "    for level in range(pyramids-1, -1, -1):\n",
        "      success = []\n",
        "      t1 = time.perf_counter()\n",
        "      OpticalFlowSingleLevel(pyr1[level], pyr2[level], kp1_pyr, kp2_pyr, success, inverse, True)\n",
        "      t2 = time.perf_counter()\n",
        "      time_used = t2-t1\n",
        "      print('track pyr %d cost time %d'%(level, time_used))\n",
        "      if level > 0:\n",
        "        for i in range(len(kp1_pyr)):\n",
        "          kp = kp1_pyr[i]\n",
        "          cv2.KeyPoint(kp.pt[0]/pyramid_scale, kp.pt[1]/pyramid_scale, kp.size)\n",
        "          kp1_pyr[i] = kp\n",
        "        for kp in kp1_pyr:\n",
        "          kp.pt[0] /= pyramid_scale\n",
        "          kp[1] /= pyramid_scale\n",
        "          kp /= pyramid_scale\n",
        "        for kp in kp2_pyr:\n",
        "          kp[0] /= pyramid_scale\n",
        "          kp[1] /= pyramid_scale\n",
        "\n",
        "    for kp in kp2_pyr:\n",
        "      kp2.append(kp)"
      ]
    },
    {
      "cell_type": "code",
      "source": [
        "a = 1\n",
        "b = 2\n",
        "a /=b\n",
        "print(a)"
      ],
      "metadata": {
        "colab": {
          "base_uri": "https://localhost:8080/"
        },
        "id": "znltakOhi6M4",
        "outputId": "7726a929-89d1-48e6-928d-094aeeb15d62"
      },
      "execution_count": 38,
      "outputs": [
        {
          "output_type": "stream",
          "name": "stdout",
          "text": [
            "0.5\n"
          ]
        }
      ]
    },
    {
      "cell_type": "markdown",
      "metadata": {
        "id": "MgpvvRBv559Q"
      },
      "source": [
        "# Define Optical Flow Tracker Class"
      ]
    },
    {
      "cell_type": "code",
      "execution_count": 39,
      "metadata": {
        "colab": {
          "base_uri": "https://localhost:8080/"
        },
        "id": "gfb_vYPL59EZ",
        "outputId": "56de2b68-6149-4228-8f64-63ac0edcbe84"
      },
      "outputs": [
        {
          "output_type": "stream",
          "name": "stdout",
          "text": [
            "hello\n"
          ]
        },
        {
          "output_type": "execute_result",
          "data": {
            "text/plain": [
              "<__main__.OpticalFlowTracker at 0x7e4e1c202050>"
            ]
          },
          "metadata": {},
          "execution_count": 39
        }
      ],
      "source": [
        "from typing import List\n",
        "\n",
        "class OpticalFlowTracker:\n",
        "  def __init__(self,\n",
        "               img1: np.ndarray,\n",
        "               img2: np.ndarray,\n",
        "               kp1: List[cv2.KeyPoint],\n",
        "               kp2: List[cv2.KeyPoint],\n",
        "               success: List[bool],\n",
        "               inverse: bool=True,\n",
        "               hasInit: bool=False\n",
        "               )->None:\n",
        "    self.img1 = img1\n",
        "    self.img2 = img2\n",
        "    self.kp1 = kp1\n",
        "    self.kp2 = kp2\n",
        "    self.success = success\n",
        "    self.inverse = inverse\n",
        "    self.hasInit = hasInit\n",
        "    print('hello')\n",
        "\n",
        "  def calculateOpticalFlow(self, range:List[int]):\n",
        "    # print('calculate optical flow')\n",
        "    half_patch_size = 4\n",
        "    iterations = 10\n",
        "    start, end = range\n",
        "    for i in range(start, end):\n",
        "      kp = self.kp1[i]\n",
        "      dx = 0\n",
        "      dy = 0\n",
        "      if self.hasInit:\n",
        "        dx = self.kp2[i].pt[0]-kp.pt[0]\n",
        "        dy = self.kp2[i].pt[1]-kp.pt[1]\n",
        "\n",
        "      cost = 0\n",
        "      lastCost = 0\n",
        "      success = True # indicate if this point succeeded\n",
        "      H = np.zeros((2, 2)) # Hessian\n",
        "      b = np.zeros(2)     # bias\n",
        "      J = np.zeros(2)\n",
        "\n",
        "      for j in range(iterations):\n",
        "        if not self.inverse:\n",
        "          H = np.zeros((2, 2)) # Hessian\n",
        "          b = np.zeros(2)     # bias\n",
        "        else:\n",
        "          # Only reset b\n",
        "          b = np.zeros(2)\n",
        "\n",
        "        cost = 0\n",
        "\n",
        "        # compute cost and Jacobian\n",
        "        for x in range(-half_patch_size, half_patch_size):\n",
        "          for y in range(-half_patch_size, half_patch_size):\n",
        "            error = GetPixelValue(img1, kp.pt[0] + x, kp.pt[1] + y) - GetPixelValue(img2, kp.pt[0] + x + dx, kp.pt[1] + y + dy) # Jacobian\n",
        "            if not self.inverse:\n",
        "              J = -1.0 * np.array([\n",
        "                  0.5 * (GetPixelValue(img2, kp.pt.x + dx + x + 1, kp.pt.y + dy + y) - GetPixelValue(img2, kp.pt.x + dx + x - 1, kp.pt.y + dy + y)),\n",
        "                  0.5 * (GetPixelValue(img2, kp.pt.x + dx + x, kp.pt.y + dy + y + 1) - GetPixelValue(img2, kp.pt.x + dx + x, kp.pt.y + dy + y - 1))\n",
        "                  ])\n",
        "            elif iter==0:\n",
        "              # in inverse mode, J keeps same for all iterations\n",
        "              # NOTE this J does not change when dx, dy is updated, so we can store it and only compute error\n",
        "              J = -1.0 * np.array([\n",
        "                  0.5 * (GetPixelValue(img1, kp.pt.x + x + 1, kp.pt.y + y) - GetPixelValue(img1, kp.pt.x + x - 1, kp.pt.y + y)),\n",
        "                  0.5 * (GetPixelValue(img1, kp.pt.x + x, kp.pt.y + y + 1) - GetPixelValue(img1, kp.pt.x + x, kp.pt.y + y - 1))\n",
        "                  ])\n",
        "            # compute H, b and set cost;\n",
        "            b += -error * J;\n",
        "            cost += error * error;\n",
        "            if (self.inverse == False or iter == 0):\n",
        "              # Update H\n",
        "              H += J * J.transpose()\n",
        "        # Compute update\n",
        "        update = np.linalg.solve(H, b)\n",
        "\n",
        "        if update is None:\n",
        "          print('update is none. Fail')\n",
        "          break\n",
        "        if iter>0 and cost > lastCost:\n",
        "          break\n",
        "\n",
        "        # update dx, dy\n",
        "        dx += update[0];\n",
        "        dy += update[1];\n",
        "        lastCost = cost;\n",
        "        succ = True;\n",
        "\n",
        "        if update.norm() < 1e-2:\n",
        "          # converge\n",
        "          break\n",
        "    success[i] = succ;\n",
        "    # set kp2\n",
        "    self.kp2[i].pt = kp.pt + cv2.Point2f(dx, dy);\n",
        "\n",
        "# OpticalFlowTracker(img1, img2, keypoint1, keypoint2, True)"
      ]
    },
    {
      "cell_type": "markdown",
      "metadata": {
        "id": "UNZfhU5IxBox"
      },
      "source": [
        "# Load Image"
      ]
    },
    {
      "cell_type": "code",
      "execution_count": 40,
      "metadata": {
        "id": "89u1wy6zta6Y"
      },
      "outputs": [],
      "source": [
        "import os\n",
        "if os.path.exists('/content/drive/MyDrive/GoogleCoLabWorkSpace/OpticalFlow/LK1.png'):\n",
        "  image1_path = '/content/drive/MyDrive/GoogleCoLabWorkSpace/OpticalFlow/LK1.png'\n",
        "  image2_path = '/content/drive/MyDrive/GoogleCoLabWorkSpace/OpticalFlow/LK2.png'\n",
        "else:\n",
        "  print('No file exist')"
      ]
    },
    {
      "cell_type": "code",
      "execution_count": 41,
      "metadata": {
        "id": "9aTTwU0jsrbs"
      },
      "outputs": [],
      "source": [
        "# images, note they are CV_8UC1, not CV_8UC3\n",
        "img1 = cv2.imread(image1_path, cv2.IMREAD_GRAYSCALE)\n",
        "img2 = cv2.imread(image2_path, cv2.IMREAD_GRAYSCALE)"
      ]
    },
    {
      "cell_type": "code",
      "execution_count": 42,
      "metadata": {
        "id": "2Ov_YOeZuubq"
      },
      "outputs": [],
      "source": [
        "# Check Files in Current Directory\n",
        "current_path = os.getcwd()\n",
        "file_list = os.listdir(current_path)"
      ]
    },
    {
      "cell_type": "markdown",
      "metadata": {
        "id": "7x7W6nEd22I8"
      },
      "source": [
        "# Detect Keypoint"
      ]
    },
    {
      "cell_type": "code",
      "execution_count": 43,
      "metadata": {
        "id": "1sFFLjSBu_h2",
        "colab": {
          "base_uri": "https://localhost:8080/",
          "height": 439
        },
        "outputId": "9f1d78b0-c78f-481b-8c58-f8643d96898d"
      },
      "outputs": [
        {
          "output_type": "stream",
          "name": "stdout",
          "text": [
            "OpticalFlowSingleLevel\n",
            "hello\n",
            "OpticalFlowMultiLevel\n",
            "build pyramid time:  0.0002851940007531084\n"
          ]
        },
        {
          "output_type": "error",
          "ename": "TypeError",
          "evalue": "ignored",
          "traceback": [
            "\u001b[0;31m---------------------------------------------------------------------------\u001b[0m",
            "\u001b[0;31mTypeError\u001b[0m                                 Traceback (most recent call last)",
            "\u001b[0;32m<ipython-input-43-543c3f2168fc>\u001b[0m in \u001b[0;36m<cell line: 11>\u001b[0;34m()\u001b[0m\n\u001b[1;32m      9\u001b[0m \u001b[0msuccess_multi\u001b[0m \u001b[0;34m=\u001b[0m \u001b[0;34m[\u001b[0m\u001b[0;34m]\u001b[0m\u001b[0;34m\u001b[0m\u001b[0;34m\u001b[0m\u001b[0m\n\u001b[1;32m     10\u001b[0m \u001b[0mt1\u001b[0m \u001b[0;34m=\u001b[0m \u001b[0mtime\u001b[0m\u001b[0;34m.\u001b[0m\u001b[0mperf_counter\u001b[0m\u001b[0;34m(\u001b[0m\u001b[0;34m)\u001b[0m\u001b[0;34m\u001b[0m\u001b[0;34m\u001b[0m\u001b[0m\n\u001b[0;32m---> 11\u001b[0;31m \u001b[0mOpticalFlowMultiLevel\u001b[0m\u001b[0;34m(\u001b[0m\u001b[0mimg1\u001b[0m\u001b[0;34m,\u001b[0m \u001b[0mimg2\u001b[0m\u001b[0;34m,\u001b[0m \u001b[0mkeypoint1\u001b[0m\u001b[0;34m,\u001b[0m \u001b[0mkp2_multi\u001b[0m\u001b[0;34m,\u001b[0m \u001b[0msuccess_multi\u001b[0m\u001b[0;34m,\u001b[0m \u001b[0;32mTrue\u001b[0m\u001b[0;34m)\u001b[0m\u001b[0;34m;\u001b[0m\u001b[0;34m\u001b[0m\u001b[0;34m\u001b[0m\u001b[0m\n\u001b[0m\u001b[1;32m     12\u001b[0m \u001b[0mt2\u001b[0m \u001b[0;34m=\u001b[0m \u001b[0mtime\u001b[0m\u001b[0;34m.\u001b[0m\u001b[0mperf_counter\u001b[0m\u001b[0;34m(\u001b[0m\u001b[0;34m)\u001b[0m\u001b[0;34m\u001b[0m\u001b[0;34m\u001b[0m\u001b[0m\n\u001b[1;32m     13\u001b[0m \u001b[0mtime_used\u001b[0m \u001b[0;34m=\u001b[0m \u001b[0mt2\u001b[0m\u001b[0;34m-\u001b[0m\u001b[0mt1\u001b[0m\u001b[0;34m\u001b[0m\u001b[0;34m\u001b[0m\u001b[0m\n",
            "\u001b[0;32m<ipython-input-37-5ee3da45c3be>\u001b[0m in \u001b[0;36mOpticalFlowMultiLevel\u001b[0;34m(img1, img2, kp1, kp2, success, inverse)\u001b[0m\n\u001b[1;32m     39\u001b[0m     \u001b[0mkp2_pyr\u001b[0m \u001b[0;34m=\u001b[0m \u001b[0;34m[\u001b[0m\u001b[0;34m]\u001b[0m\u001b[0;34m\u001b[0m\u001b[0;34m\u001b[0m\u001b[0m\n\u001b[1;32m     40\u001b[0m     \u001b[0;32mfor\u001b[0m \u001b[0mkp\u001b[0m \u001b[0;32min\u001b[0m \u001b[0mkp1\u001b[0m\u001b[0;34m:\u001b[0m\u001b[0;34m\u001b[0m\u001b[0;34m\u001b[0m\u001b[0m\n\u001b[0;32m---> 41\u001b[0;31m       \u001b[0mkp\u001b[0m\u001b[0;34m[\u001b[0m\u001b[0;36m0\u001b[0m\u001b[0;34m]\u001b[0m \u001b[0;34m*=\u001b[0m \u001b[0mscales\u001b[0m\u001b[0;34m[\u001b[0m\u001b[0mpyramids\u001b[0m\u001b[0;34m-\u001b[0m\u001b[0;36m1\u001b[0m\u001b[0;34m]\u001b[0m\u001b[0;34m\u001b[0m\u001b[0;34m\u001b[0m\u001b[0m\n\u001b[0m\u001b[1;32m     42\u001b[0m       \u001b[0mkp\u001b[0m\u001b[0;34m[\u001b[0m\u001b[0;36m1\u001b[0m\u001b[0;34m]\u001b[0m \u001b[0;34m*=\u001b[0m \u001b[0mscales\u001b[0m\u001b[0;34m[\u001b[0m\u001b[0mpyramids\u001b[0m\u001b[0;34m-\u001b[0m\u001b[0;36m1\u001b[0m\u001b[0;34m]\u001b[0m\u001b[0;34m\u001b[0m\u001b[0;34m\u001b[0m\u001b[0m\n\u001b[1;32m     43\u001b[0m       \u001b[0mkp1_pyr\u001b[0m\u001b[0;34m.\u001b[0m\u001b[0mappend\u001b[0m\u001b[0;34m(\u001b[0m\u001b[0mkp\u001b[0m\u001b[0;34m)\u001b[0m\u001b[0;34m\u001b[0m\u001b[0;34m\u001b[0m\u001b[0m\n",
            "\u001b[0;31mTypeError\u001b[0m: 'cv2.KeyPoint' object is not subscriptable"
          ]
        }
      ],
      "source": [
        "gftt = cv2.GFTTDetector_create()\n",
        "keypoint1 = gftt.detect(img1, None)\n",
        "# keypoint2 = gftt.detect(img2, None)\n",
        "kp2_single = []\n",
        "success_single = []\n",
        "OpticalFlowSingleLevel(img1, img2, keypoint1, kp2_single, success_single);\n",
        "# then test multi-level LK\n",
        "kp2_multi = []\n",
        "success_multi = []\n",
        "t1 = time.perf_counter()\n",
        "OpticalFlowMultiLevel(img1, img2, keypoint1, kp2_multi, success_multi, True);\n",
        "t2 = time.perf_counter()\n",
        "time_used = t2-t1\n",
        "print('optical flow by gaussian-newton: ', time_used)\n"
      ]
    },
    {
      "cell_type": "code",
      "execution_count": null,
      "metadata": {
        "colab": {
          "base_uri": "https://localhost:8080/"
        },
        "id": "VwApqXZl6023",
        "outputId": "3e8df204-ea4b-4b14-80c5-3659f7411b3c"
      },
      "outputs": [
        {
          "data": {
            "text/plain": [
              "array([1., 1.])"
            ]
          },
          "execution_count": 50,
          "metadata": {},
          "output_type": "execute_result"
        }
      ],
      "source": [
        "\n",
        "'''\n",
        "    // use opencv's flow for validation\n",
        "    vector<Point2f> pt1, pt2;\n",
        "    for (auto &kp: kp1) pt1.push_back(kp.pt);\n",
        "    vector<uchar> status;\n",
        "    vector<float> error;\n",
        "    t1 = chrono::steady_clock::now();\n",
        "    cv::calcOpticalFlowPyrLK(img1, img2, pt1, pt2, status, error);\n",
        "    t2 = chrono::steady_clock::now();\n",
        "    time_used = chrono::duration_cast<chrono::duration<double>>(t2 - t1);\n",
        "    cout << \"optical flow by opencv: \" << time_used.count() << endl;\n",
        "\n",
        "    // plot the differences of those functions\n",
        "    Mat img2_single;\n",
        "    cv::cvtColor(img2, img2_single, CV_GRAY2BGR);\n",
        "    for (int i = 0; i < kp2_single.size(); i++) {\n",
        "        if (success_single[i]) {\n",
        "            cv::circle(img2_single, kp2_single[i].pt, 2, cv::Scalar(0, 250, 0), 2);\n",
        "            cv::line(img2_single, kp1[i].pt, kp2_single[i].pt, cv::Scalar(0, 250, 0));\n",
        "        }\n",
        "    }\n",
        "\n",
        "    Mat img2_multi;\n",
        "    cv::cvtColor(img2, img2_multi, CV_GRAY2BGR);\n",
        "    for (int i = 0; i < kp2_multi.size(); i++) {\n",
        "        if (success_multi[i]) {\n",
        "            cv::circle(img2_multi, kp2_multi[i].pt, 2, cv::Scalar(0, 250, 0), 2);\n",
        "            cv::line(img2_multi, kp1[i].pt, kp2_multi[i].pt, cv::Scalar(0, 250, 0));\n",
        "        }\n",
        "    }\n",
        "\n",
        "    Mat img2_CV;\n",
        "    cv::cvtColor(img2, img2_CV, CV_GRAY2BGR);\n",
        "    for (int i = 0; i < pt2.size(); i++) {\n",
        "        if (status[i]) {\n",
        "            cv::circle(img2_CV, pt2[i], 2, cv::Scalar(0, 250, 0), 2);\n",
        "            cv::line(img2_CV, pt1[i], pt2[i], cv::Scalar(0, 250, 0));\n",
        "        }\n",
        "    }\n",
        "\n",
        "    cv::imshow(\"tracked single level\", img2_single);\n",
        "    cv::imshow(\"tracked multi level\", img2_multi);\n",
        "    cv::imshow(\"tracked by opencv\", img2_CV);\n",
        "    cv::waitKey(0);\n",
        "\n",
        "    return 0;\n",
        "}'''"
      ]
    },
    {
      "cell_type": "code",
      "execution_count": 58,
      "metadata": {
        "colab": {
          "base_uri": "https://localhost:8080/"
        },
        "id": "B9t4Af1cDelk",
        "outputId": "195c533c-21c9-42da-cdd3-c5d291429c0d"
      },
      "outputs": [
        {
          "output_type": "execute_result",
          "data": {
            "text/plain": [
              "1.0"
            ]
          },
          "metadata": {},
          "execution_count": 58
        }
      ],
      "source": [
        "kp = cv2.KeyPoint(1,1,1)\n",
        "kp.size"
      ]
    },
    {
      "cell_type": "code",
      "execution_count": null,
      "metadata": {
        "id": "8y3S5YIYF88z"
      },
      "outputs": [],
      "source": []
    }
  ],
  "metadata": {
    "colab": {
      "provenance": []
    },
    "kernelspec": {
      "display_name": "Python 3",
      "name": "python3"
    },
    "language_info": {
      "name": "python"
    }
  },
  "nbformat": 4,
  "nbformat_minor": 0
}