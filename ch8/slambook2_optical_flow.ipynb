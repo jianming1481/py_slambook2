{
  "nbformat": 4,
  "nbformat_minor": 0,
  "metadata": {
    "colab": {
      "provenance": []
    },
    "kernelspec": {
      "name": "python3",
      "display_name": "Python 3"
    },
    "language_info": {
      "name": "python"
    }
  },
  "cells": [
    {
      "cell_type": "markdown",
      "source": [
        "# Import Library"
      ],
      "metadata": {
        "id": "7Co2K4O_xJJX"
      }
    },
    {
      "cell_type": "code",
      "execution_count": 3,
      "metadata": {
        "id": "XE_4zkemskq7"
      },
      "outputs": [],
      "source": [
        "import numpy as np\n",
        "import matplotlib.pyplot as plt\n",
        "import cv2\n",
        "from typing import List\n",
        "import time # 計算時間差"
      ]
    },
    {
      "cell_type": "markdown",
      "source": [
        "# Load Image"
      ],
      "metadata": {
        "id": "UNZfhU5IxBox"
      }
    },
    {
      "cell_type": "code",
      "source": [
        "import os\n",
        "if os.path.exists('/content/drive/MyDrive/GoogleCoLabWorkSpace/OpticalFlow/LK1.png'):\n",
        "  image1_path = '/content/drive/MyDrive/GoogleCoLabWorkSpace/OpticalFlow/LK1.png'\n",
        "  image2_path = '/content/drive/MyDrive/GoogleCoLabWorkSpace/OpticalFlow/LK2.png'\n",
        "else:\n",
        "  print('No file exist')"
      ],
      "metadata": {
        "id": "89u1wy6zta6Y"
      },
      "execution_count": 4,
      "outputs": []
    },
    {
      "cell_type": "code",
      "source": [
        "# images, note they are CV_8UC1, not CV_8UC3\n",
        "img1 = cv2.imread(image1_path, cv2.IMREAD_GRAYSCALE)\n",
        "img2 = cv2.imread(image2_path, cv2.IMREAD_GRAYSCALE)"
      ],
      "metadata": {
        "id": "9aTTwU0jsrbs"
      },
      "execution_count": 5,
      "outputs": []
    },
    {
      "cell_type": "code",
      "source": [
        "# Check Files in Current Directory\n",
        "current_path = os.getcwd()\n",
        "file_list = os.listdir(current_path)"
      ],
      "metadata": {
        "id": "2Ov_YOeZuubq"
      },
      "execution_count": 6,
      "outputs": []
    },
    {
      "cell_type": "markdown",
      "source": [
        "# Detect Keypoint"
      ],
      "metadata": {
        "id": "7x7W6nEd22I8"
      }
    },
    {
      "cell_type": "code",
      "source": [
        "gftt = cv2.GFTTDetector_create()\n",
        "keypoint1 = gftt.detect(img1, None)\n",
        "keypoint2 = gftt.detect(img2, None)"
      ],
      "metadata": {
        "id": "1sFFLjSBu_h2"
      },
      "execution_count": 7,
      "outputs": []
    },
    {
      "cell_type": "code",
      "source": [
        "kp = keypoint1[0]\n",
        "kp.pt[0]"
      ],
      "metadata": {
        "colab": {
          "base_uri": "https://localhost:8080/"
        },
        "id": "CgRZPYRg37b0",
        "outputId": "80c26fe4-15be-46e6-9c9c-7d165d9c1d0e"
      },
      "execution_count": 8,
      "outputs": [
        {
          "output_type": "execute_result",
          "data": {
            "text/plain": [
              "448.0"
            ]
          },
          "metadata": {},
          "execution_count": 8
        }
      ]
    },
    {
      "cell_type": "markdown",
      "source": [
        "# Define some utilize function"
      ],
      "metadata": {
        "id": "c2Nx4Li6Nbzv"
      }
    },
    {
      "cell_type": "code",
      "source": [
        "def GetPixelValue(image: np.ndarray, x: float, y: float)->float:\n",
        "  # boundary check\n",
        "  yLimit, xLimit = image.shape\n",
        "  if x<0:\n",
        "    x=0\n",
        "  if y<0:\n",
        "    y=0\n",
        "  if x>(xLimit-1):\n",
        "    x = xLimit-2\n",
        "  if y>(yLimit-1):\n",
        "    y = yLimit-2\n",
        "  xx = x-np.floor(x)\n",
        "  yy = y-np.floor(y)\n",
        "  x_a1 = np.min([xLimit - 1, int(x) + 1])\n",
        "  y_a1 = np.min([yLimit - 1, int(y) + 1])\n",
        "\n",
        "  return (1 - xx) * (1 - yy) * image[y][x]\n",
        "  + xx * (1 - yy) * image[y][x_a1]\n",
        "  + (1 - xx) * yy * image[y_a1][x]\n",
        "  + xx * yy * image[y_a1][x_a1]\n",
        "\n",
        "# GetPixelValue(img1, 0, 0)\n",
        "# Q: why not just img1[0][0]?"
      ],
      "metadata": {
        "id": "Ou82mvnYC1kM"
      },
      "execution_count": 9,
      "outputs": []
    },
    {
      "cell_type": "code",
      "source": [
        "'''\n",
        " single level optical flow\n",
        "'''\n",
        "def OpticalFlowSingleLevel(\n",
        "    img1: np.ndarray,\n",
        "    img2: np.ndarray,\n",
        "    kp1: List[cv2.KeyPoint],\n",
        "    kp2: List[cv2.KeyPoint],\n",
        "    success: List[bool],\n",
        "    inverse: bool,\n",
        "    has_initial_guess: bool = False)->None:\n",
        "    print('OpticalFlowSingleLevel')\n",
        "    '''\n",
        "    kp2.resize(kp1.size());\n",
        "    success.resize(kp1.size());\n",
        "    OpticalFlowTracker tracker(img1, img2, kp1, kp2, success, inverse, has_initial);\n",
        "    parallel_for_(Range(0, kp1.size()),\n",
        "                  std::bind(&OpticalFlowTracker::calculateOpticalFlow, &tracker, placeholders::_1));\n",
        "    '''"
      ],
      "metadata": {
        "id": "W3VS4ZsKUtdM"
      },
      "execution_count": 10,
      "outputs": []
    },
    {
      "cell_type": "code",
      "source": [
        "import time\n",
        "milliseconds = int(time.time() * 1000)\n",
        "\n",
        "print(\"当前时间的毫秒数：\", milliseconds)"
      ],
      "metadata": {
        "colab": {
          "base_uri": "https://localhost:8080/"
        },
        "id": "HdstB-pOuniW",
        "outputId": "b9a1c95d-8b22-4781-9046-5a8e85535fa6"
      },
      "execution_count": 11,
      "outputs": [
        {
          "output_type": "stream",
          "name": "stdout",
          "text": [
            "当前时间的毫秒数： 1692632098008\n"
          ]
        }
      ]
    },
    {
      "cell_type": "code",
      "source": [
        "'''\n",
        " multi level optical flow, scale of pyramid is set to 2 by default\n",
        " the image pyramid will be create inside the function\n",
        "'''\n",
        "def OpticalFlowMultiLevel(\n",
        "    img1: np.ndarray,\n",
        "    img2: np.ndarray,\n",
        "    kp1: List[cv2.KeyPoint],\n",
        "    kp2: List[cv2.KeyPoint],\n",
        "    success: List[bool],\n",
        "    inverse: bool=False,)->None:\n",
        "    print('OpticalFlowMultiLevel')\n",
        "    # parameters\n",
        "    pyramids = 4\n",
        "    pyramid_scale = 0.5\n",
        "    scales = [1.0, 0.5, 0.25, 0.125]\n",
        "    # create pyramids\n",
        "    t1 = time.perf_counter()\n",
        "    pyr1 = []\n",
        "    pyr2 = []\n",
        "    for i in range(pyramids):\n",
        "      if i==0:\n",
        "        pyr1.append(img1)\n",
        "        pyr2.append(img2)\n",
        "      else:\n",
        "        new_width = int(pyr1[i - 1].shape[1] * pyramid_scale)\n",
        "        new_height = int(pyr1[i - 1].shape[0] * pyramid_scale)\n",
        "        img1_pyr = cv2.resize(pyr1[i-1], (new_width, new_height))\n",
        "        new_width = int(pyr2[i - 1].shape[1] * pyramid_scale)\n",
        "        new_height = int(pyr2[i - 1].shape[0] * pyramid_scale)\n",
        "        img2_pyr = cv2.resize(pyr2[i-1], (new_width, new_height))\n",
        "        pyr1.append(img1_pyr)\n",
        "        pyr2.append(img2_pyr)\n",
        "    t2 = time.perf_counter()\n",
        "    time_used = t2-t1\n",
        "    print('build pyramid time: ', time_used)\n",
        "    # coarse-to-fine LK tracking in pyramids\n",
        "    '''\n",
        "\n",
        "    // coarse-to-fine LK tracking in pyramids\n",
        "    vector<KeyPoint> kp1_pyr, kp2_pyr;\n",
        "    for (auto &kp:kp1) {\n",
        "        auto kp_top = kp;\n",
        "        kp_top.pt *= scales[pyramids - 1];\n",
        "        kp1_pyr.push_back(kp_top);\n",
        "        kp2_pyr.push_back(kp_top);\n",
        "    }\n",
        "\n",
        "    for (int level = pyramids - 1; level >= 0; level--) {\n",
        "        // from coarse to fine\n",
        "        success.clear();\n",
        "        t1 = chrono::steady_clock::now();\n",
        "        OpticalFlowSingleLevel(pyr1[level], pyr2[level], kp1_pyr, kp2_pyr, success, inverse, true);\n",
        "        t2 = chrono::steady_clock::now();\n",
        "        auto time_used = chrono::duration_cast<chrono::duration<double>>(t2 - t1);\n",
        "        cout << \"track pyr \" << level << \" cost time: \" << time_used.count() << endl;\n",
        "\n",
        "        if (level > 0) {\n",
        "            for (auto &kp: kp1_pyr)\n",
        "                kp.pt /= pyramid_scale;\n",
        "            for (auto &kp: kp2_pyr)\n",
        "                kp.pt /= pyramid_scale;\n",
        "        }\n",
        "    }\n",
        "\n",
        "    for (auto &kp: kp2_pyr)\n",
        "        kp2.push_back(kp);\n",
        "    '''\n"
      ],
      "metadata": {
        "id": "wyYDwjf-Vmgs"
      },
      "execution_count": null,
      "outputs": []
    },
    {
      "cell_type": "markdown",
      "source": [
        "# Define Optical Flow Tracker Class"
      ],
      "metadata": {
        "id": "MgpvvRBv559Q"
      }
    },
    {
      "cell_type": "code",
      "source": [
        "from typing import List\n",
        "\n",
        "class OpticalFlowTracker:\n",
        "  def __init__(self,\n",
        "               img1: np.ndarray,\n",
        "               img2: np.ndarray,\n",
        "               kp1: List[cv2.KeyPoint],\n",
        "               kp2: List[cv2.KeyPoint],\n",
        "               success: List[bool],\n",
        "               inverse: bool=True,\n",
        "               hasInit: bool=False\n",
        "               )->None:\n",
        "    self.img1 = img1\n",
        "    self.img2 = img2\n",
        "    self.kp1 = kp1\n",
        "    self.kp2 = kp2\n",
        "    self.success = success\n",
        "    self.inverse = inverse\n",
        "    self.hasInit = hasInit\n",
        "    print('hello')\n",
        "\n",
        "  def calculateOpticalFlow(self, range:List[int]):\n",
        "    print('calculate optical flow')\n",
        "    half_patch_size = 4\n",
        "    iterations = 10\n",
        "    start, end = range\n",
        "    for i in range(start, end):\n",
        "      kp = self.kp1[i]\n",
        "      dx = 0\n",
        "      dy = 0\n",
        "      if self.hasInit:\n",
        "        dx = self.kp2[i].pt[0]-kp.pt[0]\n",
        "        dy = self.kp2[i].pt[1]-kp.pt[1]\n",
        "\n",
        "      cost = 0\n",
        "      lastCost = 0\n",
        "      success = True # indicate if this point succeeded\n",
        "      H = np.zeros((2, 2)) # Hessian\n",
        "      b = np.zeros(2)     # bias\n",
        "      J = np.zeros(2)\n",
        "\n",
        "      for j in range(iterations):\n",
        "        if not self.inverse:\n",
        "          H = np.zeros((2, 2)) # Hessian\n",
        "          b = np.zeros(2)     # bias\n",
        "        else:\n",
        "          # Only reset b\n",
        "          b = np.zeros(2)\n",
        "\n",
        "        cost = 0\n",
        "\n",
        "        # compute cost and Jacobian\n",
        "        for x in range(-half_patch_size, half_patch_size):\n",
        "          for y in range(-half_patch_size, half_patch_size):\n",
        "            error = GetPixelValue(img1, kp.pt[0] + x, kp.pt[1] + y) - GetPixelValue(img2, kp.pt[0] + x + dx, kp.pt[1] + y + dy) # Jacobian\n",
        "            if not self.inverse:\n",
        "              J = -1.0 * np.array([\n",
        "                  0.5 * (GetPixelValue(img2, kp.pt.x + dx + x + 1, kp.pt.y + dy + y) - GetPixelValue(img2, kp.pt.x + dx + x - 1, kp.pt.y + dy + y)),\n",
        "                  0.5 * (GetPixelValue(img2, kp.pt.x + dx + x, kp.pt.y + dy + y + 1) - GetPixelValue(img2, kp.pt.x + dx + x, kp.pt.y + dy + y - 1))\n",
        "                  ])\n",
        "            elif iter==0:\n",
        "              # in inverse mode, J keeps same for all iterations\n",
        "              # NOTE this J does not change when dx, dy is updated, so we can store it and only compute error\n",
        "              J = -1.0 * np.array([\n",
        "                  0.5 * (GetPixelValue(img1, kp.pt.x + x + 1, kp.pt.y + y) - GetPixelValue(img1, kp.pt.x + x - 1, kp.pt.y + y)),\n",
        "                  0.5 * (GetPixelValue(img1, kp.pt.x + x, kp.pt.y + y + 1) - GetPixelValue(img1, kp.pt.x + x, kp.pt.y + y - 1))\n",
        "                  ])\n",
        "            # compute H, b and set cost;\n",
        "            b += -error * J;\n",
        "            cost += error * error;\n",
        "            if (self.inverse == False or iter == 0):\n",
        "              # Update H\n",
        "              H += J * J.transpose()\n",
        "        # Compute update\n",
        "        update = np.linalg.solve(H, b)\n",
        "\n",
        "        if update is None:\n",
        "          print('update is none. Fail')\n",
        "          break\n",
        "        if iter>0 and cost > lastCost:\n",
        "          break\n",
        "\n",
        "        # update dx, dy\n",
        "        dx += update[0];\n",
        "        dy += update[1];\n",
        "        lastCost = cost;\n",
        "        succ = True;\n",
        "\n",
        "        if update.norm() < 1e-2:\n",
        "          # converge\n",
        "          break\n",
        "    success[i] = succ;\n",
        "    # set kp2\n",
        "    self.kp2[i].pt = kp.pt + cv2.Point2f(dx, dy);\n",
        "\n",
        "OpticalFlowTracker(img1, img2, keypoint1, keypoint2, True)"
      ],
      "metadata": {
        "colab": {
          "base_uri": "https://localhost:8080/"
        },
        "id": "gfb_vYPL59EZ",
        "outputId": "f8f576c3-0ced-487f-d5e6-32460380fc3a"
      },
      "execution_count": null,
      "outputs": [
        {
          "output_type": "stream",
          "name": "stdout",
          "text": [
            "hello\n"
          ]
        },
        {
          "output_type": "execute_result",
          "data": {
            "text/plain": [
              "<__main__.OpticalFlowTracker at 0x7b4a8d131b40>"
            ]
          },
          "metadata": {},
          "execution_count": 52
        }
      ]
    },
    {
      "cell_type": "code",
      "source": [
        "arr2d=np.zeros(2)\n",
        "arr2d+1"
      ],
      "metadata": {
        "id": "VwApqXZl6023",
        "colab": {
          "base_uri": "https://localhost:8080/"
        },
        "outputId": "3e8df204-ea4b-4b14-80c5-3659f7411b3c"
      },
      "execution_count": null,
      "outputs": [
        {
          "output_type": "execute_result",
          "data": {
            "text/plain": [
              "array([1., 1.])"
            ]
          },
          "metadata": {},
          "execution_count": 50
        }
      ]
    },
    {
      "cell_type": "code",
      "source": [],
      "metadata": {
        "colab": {
          "base_uri": "https://localhost:8080/"
        },
        "id": "B9t4Af1cDelk",
        "outputId": "15871bbd-5c04-4953-f65b-cb30d63a4e92"
      },
      "execution_count": null,
      "outputs": [
        {
          "output_type": "execute_result",
          "data": {
            "text/plain": [
              "1"
            ]
          },
          "metadata": {},
          "execution_count": 43
        }
      ]
    },
    {
      "cell_type": "code",
      "source": [],
      "metadata": {
        "id": "8y3S5YIYF88z"
      },
      "execution_count": null,
      "outputs": []
    }
  ]
}